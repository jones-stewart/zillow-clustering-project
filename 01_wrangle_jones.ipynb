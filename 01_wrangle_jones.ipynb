{
 "cells": [
  {
   "cell_type": "markdown",
   "id": "eab5e167",
   "metadata": {},
   "source": [
    "# Testing import function\n",
    ">Raw DataFrame will be stored as `df`"
   ]
  },
  {
   "cell_type": "code",
   "execution_count": 1,
   "id": "fa2006b0",
   "metadata": {
    "scrolled": true
   },
   "outputs": [],
   "source": [
    "import wrangle_jones"
   ]
  },
  {
   "cell_type": "code",
   "execution_count": 2,
   "id": "5cea8894",
   "metadata": {
    "scrolled": false
   },
   "outputs": [],
   "source": [
    "df = wrangle_jones.acquire_zillow()"
   ]
  },
  {
   "cell_type": "code",
   "execution_count": 3,
   "id": "d8cf9d8b",
   "metadata": {},
   "outputs": [
    {
     "data": {
      "text/html": [
       "<div><div id=8ffbdc8a-b627-4919-9327-e51a5ef07509 style=\"display:none; background-color:#9D6CFF; color:white; width:200px; height:30px; padding-left:5px; border-radius:4px; flex-direction:row; justify-content:space-around; align-items:center;\" onmouseover=\"this.style.backgroundColor='#BA9BF8'\" onmouseout=\"this.style.backgroundColor='#9D6CFF'\" onclick=\"window.commands?.execute('create-mitosheet-from-dataframe-output');\">See Full Dataframe in Mito</div> <script> if (window.commands.hasCommand('create-mitosheet-from-dataframe-output')) document.getElementById('8ffbdc8a-b627-4919-9327-e51a5ef07509').style.display = 'flex' </script> <table border=\"1\" class=\"dataframe\">\n",
       "  <thead>\n",
       "    <tr style=\"text-align: right;\">\n",
       "      <th></th>\n",
       "      <th>baths</th>\n",
       "      <th>beds</th>\n",
       "      <th>sqft</th>\n",
       "      <th>fips</th>\n",
       "      <th>fullbaths</th>\n",
       "      <th>latitude</th>\n",
       "      <th>longitude</th>\n",
       "      <th>rooms</th>\n",
       "      <th>yearbuilt</th>\n",
       "      <th>tax_value</th>\n",
       "      <th>garagecarcnt</th>\n",
       "      <th>logerror</th>\n",
       "      <th>transactiondate</th>\n",
       "      <th>unitcnt</th>\n",
       "      <th>propertylandusetypeid</th>\n",
       "    </tr>\n",
       "  </thead>\n",
       "  <tbody>\n",
       "    <tr>\n",
       "      <th>0</th>\n",
       "      <td>3.5</td>\n",
       "      <td>4.0</td>\n",
       "      <td>3100.0</td>\n",
       "      <td>6059.0</td>\n",
       "      <td>3.0</td>\n",
       "      <td>33634931.0</td>\n",
       "      <td>-117869207.0</td>\n",
       "      <td>0.0</td>\n",
       "      <td>1998.0</td>\n",
       "      <td>1023282.0</td>\n",
       "      <td>2.0</td>\n",
       "      <td>0.025595</td>\n",
       "      <td>2017-01-01</td>\n",
       "      <td>NaN</td>\n",
       "      <td>261.0</td>\n",
       "    </tr>\n",
       "    <tr>\n",
       "      <th>1</th>\n",
       "      <td>1.0</td>\n",
       "      <td>2.0</td>\n",
       "      <td>1465.0</td>\n",
       "      <td>6111.0</td>\n",
       "      <td>1.0</td>\n",
       "      <td>34449266.0</td>\n",
       "      <td>-119281531.0</td>\n",
       "      <td>5.0</td>\n",
       "      <td>1967.0</td>\n",
       "      <td>464000.0</td>\n",
       "      <td>1.0</td>\n",
       "      <td>0.055619</td>\n",
       "      <td>2017-01-01</td>\n",
       "      <td>NaN</td>\n",
       "      <td>261.0</td>\n",
       "    </tr>\n",
       "    <tr>\n",
       "      <th>2</th>\n",
       "      <td>2.0</td>\n",
       "      <td>3.0</td>\n",
       "      <td>1243.0</td>\n",
       "      <td>6059.0</td>\n",
       "      <td>2.0</td>\n",
       "      <td>33886168.0</td>\n",
       "      <td>-117823170.0</td>\n",
       "      <td>6.0</td>\n",
       "      <td>1962.0</td>\n",
       "      <td>564778.0</td>\n",
       "      <td>2.0</td>\n",
       "      <td>0.005383</td>\n",
       "      <td>2017-01-01</td>\n",
       "      <td>NaN</td>\n",
       "      <td>261.0</td>\n",
       "    </tr>\n",
       "    <tr>\n",
       "      <th>3</th>\n",
       "      <td>3.0</td>\n",
       "      <td>4.0</td>\n",
       "      <td>2376.0</td>\n",
       "      <td>6037.0</td>\n",
       "      <td>3.0</td>\n",
       "      <td>34245180.0</td>\n",
       "      <td>-118240722.0</td>\n",
       "      <td>0.0</td>\n",
       "      <td>1970.0</td>\n",
       "      <td>145143.0</td>\n",
       "      <td>NaN</td>\n",
       "      <td>-0.103410</td>\n",
       "      <td>2017-01-01</td>\n",
       "      <td>1.0</td>\n",
       "      <td>261.0</td>\n",
       "    </tr>\n",
       "    <tr>\n",
       "      <th>4</th>\n",
       "      <td>3.0</td>\n",
       "      <td>3.0</td>\n",
       "      <td>1312.0</td>\n",
       "      <td>6037.0</td>\n",
       "      <td>3.0</td>\n",
       "      <td>34185120.0</td>\n",
       "      <td>-118414640.0</td>\n",
       "      <td>0.0</td>\n",
       "      <td>1964.0</td>\n",
       "      <td>119407.0</td>\n",
       "      <td>NaN</td>\n",
       "      <td>0.006940</td>\n",
       "      <td>2017-01-01</td>\n",
       "      <td>1.0</td>\n",
       "      <td>266.0</td>\n",
       "    </tr>\n",
       "  </tbody>\n",
       "</table></div>"
      ],
      "text/plain": [
       "   baths  beds    sqft    fips  fullbaths    latitude    longitude  rooms  \\\n",
       "0    3.5   4.0  3100.0  6059.0        3.0  33634931.0 -117869207.0    0.0   \n",
       "1    1.0   2.0  1465.0  6111.0        1.0  34449266.0 -119281531.0    5.0   \n",
       "2    2.0   3.0  1243.0  6059.0        2.0  33886168.0 -117823170.0    6.0   \n",
       "3    3.0   4.0  2376.0  6037.0        3.0  34245180.0 -118240722.0    0.0   \n",
       "4    3.0   3.0  1312.0  6037.0        3.0  34185120.0 -118414640.0    0.0   \n",
       "\n",
       "   yearbuilt  tax_value  garagecarcnt  logerror transactiondate  unitcnt  \\\n",
       "0     1998.0  1023282.0           2.0  0.025595      2017-01-01      NaN   \n",
       "1     1967.0   464000.0           1.0  0.055619      2017-01-01      NaN   \n",
       "2     1962.0   564778.0           2.0  0.005383      2017-01-01      NaN   \n",
       "3     1970.0   145143.0           NaN -0.103410      2017-01-01      1.0   \n",
       "4     1964.0   119407.0           NaN  0.006940      2017-01-01      1.0   \n",
       "\n",
       "   propertylandusetypeid  \n",
       "0                  261.0  \n",
       "1                  261.0  \n",
       "2                  261.0  \n",
       "3                  261.0  \n",
       "4                  266.0  "
      ]
     },
     "execution_count": 3,
     "metadata": {},
     "output_type": "execute_result"
    }
   ],
   "source": [
    "df.head()"
   ]
  },
  {
   "cell_type": "markdown",
   "id": "bf85db5c",
   "metadata": {},
   "source": [
    "# Testing wrangle function\n",
    ">Wrangled df will be stored in `df_wrangled`"
   ]
  },
  {
   "cell_type": "code",
   "execution_count": 4,
   "id": "0888005e",
   "metadata": {},
   "outputs": [
    {
     "name": "stderr",
     "output_type": "stream",
     "text": [
      "NumExpr defaulting to 8 threads.\n"
     ]
    }
   ],
   "source": [
    "df_wrangled = wrangle_jones.wrangle_zillow(df)"
   ]
  },
  {
   "cell_type": "code",
   "execution_count": 5,
   "id": "a62b8e07",
   "metadata": {},
   "outputs": [
    {
     "data": {
      "text/html": [
       "<div><div id=de9c1730-4e54-46ca-a1dd-f6446519e534 style=\"display:none; background-color:#9D6CFF; color:white; width:200px; height:30px; padding-left:5px; border-radius:4px; flex-direction:row; justify-content:space-around; align-items:center;\" onmouseover=\"this.style.backgroundColor='#BA9BF8'\" onmouseout=\"this.style.backgroundColor='#9D6CFF'\" onclick=\"window.commands?.execute('create-mitosheet-from-dataframe-output');\">See Full Dataframe in Mito</div> <script> if (window.commands.hasCommand('create-mitosheet-from-dataframe-output')) document.getElementById('de9c1730-4e54-46ca-a1dd-f6446519e534').style.display = 'flex' </script> <table border=\"1\" class=\"dataframe\">\n",
       "  <thead>\n",
       "    <tr style=\"text-align: right;\">\n",
       "      <th></th>\n",
       "      <th>baths</th>\n",
       "      <th>beds</th>\n",
       "      <th>sqft</th>\n",
       "      <th>fullbaths</th>\n",
       "      <th>latitude</th>\n",
       "      <th>longitude</th>\n",
       "      <th>rooms</th>\n",
       "      <th>tax_value</th>\n",
       "      <th>garagecarcnt</th>\n",
       "      <th>logerror</th>\n",
       "      <th>unitcnt</th>\n",
       "      <th>fips_loc</th>\n",
       "      <th>age</th>\n",
       "    </tr>\n",
       "  </thead>\n",
       "  <tbody>\n",
       "    <tr>\n",
       "      <th>7814</th>\n",
       "      <td>3.0</td>\n",
       "      <td>5</td>\n",
       "      <td>2688</td>\n",
       "      <td>3</td>\n",
       "      <td>33682530</td>\n",
       "      <td>-118006688</td>\n",
       "      <td>8</td>\n",
       "      <td>464307.0</td>\n",
       "      <td>2.0</td>\n",
       "      <td>0.003077</td>\n",
       "      <td>1</td>\n",
       "      <td>Orange, CA</td>\n",
       "      <td>50</td>\n",
       "    </tr>\n",
       "    <tr>\n",
       "      <th>18322</th>\n",
       "      <td>3.0</td>\n",
       "      <td>4</td>\n",
       "      <td>3569</td>\n",
       "      <td>3</td>\n",
       "      <td>33892296</td>\n",
       "      <td>-117932312</td>\n",
       "      <td>6</td>\n",
       "      <td>1208181.0</td>\n",
       "      <td>2.0</td>\n",
       "      <td>-0.029418</td>\n",
       "      <td>1</td>\n",
       "      <td>Orange, CA</td>\n",
       "      <td>60</td>\n",
       "    </tr>\n",
       "    <tr>\n",
       "      <th>28389</th>\n",
       "      <td>1.0</td>\n",
       "      <td>2</td>\n",
       "      <td>790</td>\n",
       "      <td>1</td>\n",
       "      <td>33842457</td>\n",
       "      <td>-117911488</td>\n",
       "      <td>5</td>\n",
       "      <td>177355.0</td>\n",
       "      <td>1.0</td>\n",
       "      <td>0.097092</td>\n",
       "      <td>1</td>\n",
       "      <td>Orange, CA</td>\n",
       "      <td>102</td>\n",
       "    </tr>\n",
       "    <tr>\n",
       "      <th>36663</th>\n",
       "      <td>4.0</td>\n",
       "      <td>4</td>\n",
       "      <td>3023</td>\n",
       "      <td>4</td>\n",
       "      <td>33546605</td>\n",
       "      <td>-117799619</td>\n",
       "      <td>0</td>\n",
       "      <td>9323011.0</td>\n",
       "      <td>2.0</td>\n",
       "      <td>0.060729</td>\n",
       "      <td>1</td>\n",
       "      <td>Orange, CA</td>\n",
       "      <td>106</td>\n",
       "    </tr>\n",
       "    <tr>\n",
       "      <th>46866</th>\n",
       "      <td>1.0</td>\n",
       "      <td>3</td>\n",
       "      <td>995</td>\n",
       "      <td>1</td>\n",
       "      <td>34025375</td>\n",
       "      <td>-117738319</td>\n",
       "      <td>0</td>\n",
       "      <td>142583.0</td>\n",
       "      <td>2.0</td>\n",
       "      <td>-0.009416</td>\n",
       "      <td>1</td>\n",
       "      <td>Los Angeles, CA</td>\n",
       "      <td>64</td>\n",
       "    </tr>\n",
       "  </tbody>\n",
       "</table></div>"
      ],
      "text/plain": [
       "       baths  beds  sqft  fullbaths  latitude  longitude  rooms  tax_value  \\\n",
       "7814     3.0     5  2688          3  33682530 -118006688      8   464307.0   \n",
       "18322    3.0     4  3569          3  33892296 -117932312      6  1208181.0   \n",
       "28389    1.0     2   790          1  33842457 -117911488      5   177355.0   \n",
       "36663    4.0     4  3023          4  33546605 -117799619      0  9323011.0   \n",
       "46866    1.0     3   995          1  34025375 -117738319      0   142583.0   \n",
       "\n",
       "       garagecarcnt  logerror  unitcnt         fips_loc  age  \n",
       "7814            2.0  0.003077        1       Orange, CA   50  \n",
       "18322           2.0 -0.029418        1       Orange, CA   60  \n",
       "28389           1.0  0.097092        1       Orange, CA  102  \n",
       "36663           2.0  0.060729        1       Orange, CA  106  \n",
       "46866           2.0 -0.009416        1  Los Angeles, CA   64  "
      ]
     },
     "execution_count": 5,
     "metadata": {},
     "output_type": "execute_result"
    }
   ],
   "source": [
    "df_wrangled.head()"
   ]
  },
  {
   "cell_type": "code",
   "execution_count": 6,
   "id": "53f95183",
   "metadata": {},
   "outputs": [
    {
     "data": {
      "text/plain": [
       "0"
      ]
     },
     "execution_count": 6,
     "metadata": {},
     "output_type": "execute_result"
    }
   ],
   "source": [
    "df_wrangled.shape[0] - df_wrangled.dropna().shape[0]"
   ]
  },
  {
   "cell_type": "markdown",
   "id": "26521043",
   "metadata": {},
   "source": [
    "### Our wrangle function took care of all our null values"
   ]
  },
  {
   "cell_type": "code",
   "execution_count": 7,
   "id": "b072e468",
   "metadata": {},
   "outputs": [
    {
     "data": {
      "text/plain": [
       "garagecarcnt             51906\n",
       "unitcnt                  26818\n",
       "fullbaths                  609\n",
       "yearbuilt                  263\n",
       "sqft                       196\n",
       "tax_value                    1\n",
       "baths                        0\n",
       "beds                         0\n",
       "fips                         0\n",
       "latitude                     0\n",
       "longitude                    0\n",
       "rooms                        0\n",
       "logerror                     0\n",
       "transactiondate              0\n",
       "propertylandusetypeid        0\n",
       "dtype: int64"
      ]
     },
     "execution_count": 7,
     "metadata": {},
     "output_type": "execute_result"
    }
   ],
   "source": [
    "df.isnull().sum().sort_values(ascending = False)"
   ]
  },
  {
   "cell_type": "code",
   "execution_count": 8,
   "id": "edb12a38",
   "metadata": {},
   "outputs": [
    {
     "data": {
      "text/plain": [
       "baths           0\n",
       "beds            0\n",
       "sqft            0\n",
       "fullbaths       0\n",
       "latitude        0\n",
       "longitude       0\n",
       "rooms           0\n",
       "tax_value       0\n",
       "garagecarcnt    0\n",
       "logerror        0\n",
       "unitcnt         0\n",
       "fips_loc        0\n",
       "age             0\n",
       "dtype: int64"
      ]
     },
     "execution_count": 8,
     "metadata": {},
     "output_type": "execute_result"
    }
   ],
   "source": [
    "df_wrangled.isnull().sum().sort_values(ascending = False)"
   ]
  },
  {
   "cell_type": "code",
   "execution_count": 9,
   "id": "81dfec8c",
   "metadata": {},
   "outputs": [
    {
     "data": {
      "text/plain": [
       "dtype('O')"
      ]
     },
     "execution_count": 9,
     "metadata": {},
     "output_type": "execute_result"
    }
   ],
   "source": [
    "df_wrangled.fips_loc.dtype"
   ]
  },
  {
   "cell_type": "code",
   "execution_count": 10,
   "id": "a8036a97",
   "metadata": {},
   "outputs": [],
   "source": [
    "# (2022 - df_wrangled.yearbuilt)/2"
   ]
  },
  {
   "cell_type": "code",
   "execution_count": 11,
   "id": "0cfd3374",
   "metadata": {},
   "outputs": [
    {
     "name": "stdout",
     "output_type": "stream",
     "text": [
      "<class 'pandas.core.frame.DataFrame'>\n",
      "Int64Index: 5 entries, 7814 to 46866\n",
      "Data columns (total 13 columns):\n",
      " #   Column        Non-Null Count  Dtype  \n",
      "---  ------        --------------  -----  \n",
      " 0   baths         5 non-null      float64\n",
      " 1   beds          5 non-null      int64  \n",
      " 2   sqft          5 non-null      int64  \n",
      " 3   fullbaths     5 non-null      int64  \n",
      " 4   latitude      5 non-null      int64  \n",
      " 5   longitude     5 non-null      int64  \n",
      " 6   rooms         5 non-null      int64  \n",
      " 7   tax_value     5 non-null      float64\n",
      " 8   garagecarcnt  5 non-null      float64\n",
      " 9   logerror      5 non-null      float64\n",
      " 10  unitcnt       5 non-null      int64  \n",
      " 11  fips_loc      5 non-null      object \n",
      " 12  age           5 non-null      int64  \n",
      "dtypes: float64(4), int64(8), object(1)\n",
      "memory usage: 560.0+ bytes\n"
     ]
    }
   ],
   "source": [
    "df_wrangled.info()"
   ]
  },
  {
   "cell_type": "code",
   "execution_count": 12,
   "id": "cd0bd39d",
   "metadata": {
    "scrolled": false
   },
   "outputs": [],
   "source": [
    "# df_wrangled[['beds', 'sqft']].astype('int')"
   ]
  },
  {
   "cell_type": "code",
   "execution_count": 13,
   "id": "313a5fb7",
   "metadata": {},
   "outputs": [
    {
     "ename": "NameError",
     "evalue": "name 'sns' is not defined",
     "output_type": "error",
     "traceback": [
      "\u001b[0;31m---------------------------------------------------------------------------\u001b[0m",
      "\u001b[0;31mNameError\u001b[0m                                 Traceback (most recent call last)",
      "\u001b[0;32m<ipython-input-13-1d4e92e050fe>\u001b[0m in \u001b[0;36m<module>\u001b[0;34m\u001b[0m\n\u001b[1;32m      1\u001b[0m \u001b[0;32mfor\u001b[0m \u001b[0mcol\u001b[0m \u001b[0;32min\u001b[0m \u001b[0mdf_wrangled\u001b[0m\u001b[0;34m.\u001b[0m\u001b[0mcolumns\u001b[0m\u001b[0;34m:\u001b[0m\u001b[0;34m\u001b[0m\u001b[0;34m\u001b[0m\u001b[0m\n\u001b[0;32m----> 2\u001b[0;31m     \u001b[0msns\u001b[0m\u001b[0;34m.\u001b[0m\u001b[0mboxplot\u001b[0m\u001b[0;34m(\u001b[0m\u001b[0mdf\u001b[0m\u001b[0;34m[\u001b[0m\u001b[0mcol\u001b[0m\u001b[0;34m]\u001b[0m\u001b[0;34m)\u001b[0m\u001b[0;34m\u001b[0m\u001b[0;34m\u001b[0m\u001b[0m\n\u001b[0m\u001b[1;32m      3\u001b[0m     \u001b[0mprint\u001b[0m\u001b[0;34m(\u001b[0m\u001b[0;34m)\u001b[0m\u001b[0;34m\u001b[0m\u001b[0;34m\u001b[0m\u001b[0m\n",
      "\u001b[0;31mNameError\u001b[0m: name 'sns' is not defined"
     ]
    }
   ],
   "source": [
    "import seaborn as sns\n",
    "for col in df_wrangled.columns:\n",
    "    sns.boxplot(df[col])\n",
    "    print()"
   ]
  },
  {
   "cell_type": "code",
   "execution_count": null,
   "id": "671c4356",
   "metadata": {},
   "outputs": [],
   "source": []
  },
  {
   "cell_type": "code",
   "execution_count": null,
   "id": "7f0679be",
   "metadata": {},
   "outputs": [],
   "source": []
  }
 ],
 "metadata": {
  "kernelspec": {
   "display_name": "Python 3",
   "language": "python",
   "name": "python3"
  },
  "language_info": {
   "codemirror_mode": {
    "name": "ipython",
    "version": 3
   },
   "file_extension": ".py",
   "mimetype": "text/x-python",
   "name": "python",
   "nbconvert_exporter": "python",
   "pygments_lexer": "ipython3",
   "version": "3.8.8"
  }
 },
 "nbformat": 4,
 "nbformat_minor": 5
}

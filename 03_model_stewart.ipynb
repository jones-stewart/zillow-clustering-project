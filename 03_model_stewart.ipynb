{
 "cells": [
  {
   "cell_type": "markdown",
   "id": "835bf5dc",
   "metadata": {},
   "source": [
    "# Modeling\n",
    "\n",
    "For our evaluation metric, we want to use RMSE. RMSE allows us to view the model's error in terms of the target's unit, making it easier to understand. \n",
    "\n",
    "We do intend to use clusters in some of our models, but I'm curious to see how the model performs without the clusters first. When all models have been run, we will compare them to see if the clusters we created improve our models.\n",
    "\n",
    "For the models we will create for our MVP, the features we will be using are `tax_value`, `age`, `sq_ft`, and the clusters we created."
   ]
  },
  {
   "cell_type": "code",
   "execution_count": 1,
   "id": "2f3957c3",
   "metadata": {},
   "outputs": [],
   "source": [
    "# imports\n",
    "import wrangle_stewart_01 as wr\n",
    "import pandas as pd\n",
    "# turn off pink warnings\n",
    "import warnings\n",
    "warnings.filterwarnings('ignore')"
   ]
  },
  {
   "cell_type": "code",
   "execution_count": 2,
   "id": "ae8f8acb",
   "metadata": {},
   "outputs": [
    {
     "data": {
      "text/plain": [
       "((35820, 19), (15352, 19), (12793, 19))"
      ]
     },
     "execution_count": 2,
     "metadata": {},
     "output_type": "execute_result"
    }
   ],
   "source": [
    "# wrangle data\n",
    "train, validate, test = wr.split_data(wr.remove_outliers(wr.wrangle_zillow(0.6, 0.8), ['sq_ft', 'baths', 'beds',\n",
    "                        'fullbaths', 'tax_value'], 1.5))\n",
    "# standard scale data\n",
    "train, validate, test = wr.standard_scale_data(train, validate, test, ['baths', 'beds', 'sq_ft', 'tax_value', 'age'])\n",
    "train.shape, validate.shape, test.shape"
   ]
  },
  {
   "cell_type": "code",
   "execution_count": 3,
   "id": "a12ee8f7",
   "metadata": {},
   "outputs": [
    {
     "data": {
      "text/html": [
       "<div>\n",
       "<style scoped>\n",
       "    .dataframe tbody tr th:only-of-type {\n",
       "        vertical-align: middle;\n",
       "    }\n",
       "\n",
       "    .dataframe tbody tr th {\n",
       "        vertical-align: top;\n",
       "    }\n",
       "\n",
       "    .dataframe thead th {\n",
       "        text-align: right;\n",
       "    }\n",
       "</style>\n",
       "<table border=\"1\" class=\"dataframe\">\n",
       "  <thead>\n",
       "    <tr style=\"text-align: right;\">\n",
       "      <th></th>\n",
       "      <th>baths</th>\n",
       "      <th>beds</th>\n",
       "      <th>sq_ft</th>\n",
       "      <th>fips</th>\n",
       "      <th>fullbaths</th>\n",
       "      <th>latitude</th>\n",
       "      <th>longitude</th>\n",
       "      <th>rooms</th>\n",
       "      <th>yearbuilt</th>\n",
       "      <th>tax_value</th>\n",
       "      <th>logerror</th>\n",
       "      <th>transactiondate</th>\n",
       "      <th>fips_loc</th>\n",
       "      <th>age</th>\n",
       "      <th>baths_scaled</th>\n",
       "      <th>beds_scaled</th>\n",
       "      <th>sq_ft_scaled</th>\n",
       "      <th>tax_value_scaled</th>\n",
       "      <th>age_scaled</th>\n",
       "    </tr>\n",
       "  </thead>\n",
       "  <tbody>\n",
       "    <tr>\n",
       "      <th>18818</th>\n",
       "      <td>3.0</td>\n",
       "      <td>3.0</td>\n",
       "      <td>1683.0</td>\n",
       "      <td>6037</td>\n",
       "      <td>3.0</td>\n",
       "      <td>33874056.0</td>\n",
       "      <td>-118365638.0</td>\n",
       "      <td>0.0</td>\n",
       "      <td>1986.0</td>\n",
       "      <td>331062.0</td>\n",
       "      <td>-0.009760</td>\n",
       "      <td>2017-03-21</td>\n",
       "      <td>Los Angeles, CA</td>\n",
       "      <td>36.0</td>\n",
       "      <td>1.247680</td>\n",
       "      <td>0.099184</td>\n",
       "      <td>0.208523</td>\n",
       "      <td>-0.135195</td>\n",
       "      <td>-0.770150</td>\n",
       "    </tr>\n",
       "    <tr>\n",
       "      <th>52227</th>\n",
       "      <td>2.0</td>\n",
       "      <td>3.0</td>\n",
       "      <td>1085.0</td>\n",
       "      <td>6037</td>\n",
       "      <td>2.0</td>\n",
       "      <td>34616142.0</td>\n",
       "      <td>-117811587.0</td>\n",
       "      <td>0.0</td>\n",
       "      <td>1987.0</td>\n",
       "      <td>109644.0</td>\n",
       "      <td>-0.023405</td>\n",
       "      <td>2017-06-30</td>\n",
       "      <td>Los Angeles, CA</td>\n",
       "      <td>35.0</td>\n",
       "      <td>-0.154243</td>\n",
       "      <td>0.099184</td>\n",
       "      <td>-0.821472</td>\n",
       "      <td>-1.143307</td>\n",
       "      <td>-0.814908</td>\n",
       "    </tr>\n",
       "    <tr>\n",
       "      <th>25353</th>\n",
       "      <td>3.0</td>\n",
       "      <td>3.0</td>\n",
       "      <td>2030.0</td>\n",
       "      <td>6037</td>\n",
       "      <td>3.0</td>\n",
       "      <td>34135615.0</td>\n",
       "      <td>-118502375.0</td>\n",
       "      <td>0.0</td>\n",
       "      <td>1966.0</td>\n",
       "      <td>127529.0</td>\n",
       "      <td>-0.009772</td>\n",
       "      <td>2017-04-11</td>\n",
       "      <td>Los Angeles, CA</td>\n",
       "      <td>56.0</td>\n",
       "      <td>1.247680</td>\n",
       "      <td>0.099184</td>\n",
       "      <td>0.806196</td>\n",
       "      <td>-1.061877</td>\n",
       "      <td>0.125017</td>\n",
       "    </tr>\n",
       "    <tr>\n",
       "      <th>73264</th>\n",
       "      <td>2.0</td>\n",
       "      <td>3.0</td>\n",
       "      <td>1652.0</td>\n",
       "      <td>6059</td>\n",
       "      <td>2.0</td>\n",
       "      <td>33945258.0</td>\n",
       "      <td>-117942079.0</td>\n",
       "      <td>7.0</td>\n",
       "      <td>1959.0</td>\n",
       "      <td>180075.0</td>\n",
       "      <td>-0.021081</td>\n",
       "      <td>2017-09-01</td>\n",
       "      <td>Orange, CA</td>\n",
       "      <td>63.0</td>\n",
       "      <td>-0.154243</td>\n",
       "      <td>0.099184</td>\n",
       "      <td>0.155128</td>\n",
       "      <td>-0.822636</td>\n",
       "      <td>0.438326</td>\n",
       "    </tr>\n",
       "    <tr>\n",
       "      <th>56877</th>\n",
       "      <td>2.0</td>\n",
       "      <td>3.0</td>\n",
       "      <td>1684.0</td>\n",
       "      <td>6037</td>\n",
       "      <td>2.0</td>\n",
       "      <td>34212322.0</td>\n",
       "      <td>-118214747.0</td>\n",
       "      <td>0.0</td>\n",
       "      <td>1942.0</td>\n",
       "      <td>81966.0</td>\n",
       "      <td>-0.006403</td>\n",
       "      <td>2017-07-14</td>\n",
       "      <td>Los Angeles, CA</td>\n",
       "      <td>80.0</td>\n",
       "      <td>-0.154243</td>\n",
       "      <td>0.099184</td>\n",
       "      <td>0.210245</td>\n",
       "      <td>-1.269324</td>\n",
       "      <td>1.199217</td>\n",
       "    </tr>\n",
       "  </tbody>\n",
       "</table>\n",
       "</div>"
      ],
      "text/plain": [
       "       baths  beds   sq_ft  fips  fullbaths    latitude    longitude  rooms  \\\n",
       "18818    3.0   3.0  1683.0  6037        3.0  33874056.0 -118365638.0    0.0   \n",
       "52227    2.0   3.0  1085.0  6037        2.0  34616142.0 -117811587.0    0.0   \n",
       "25353    3.0   3.0  2030.0  6037        3.0  34135615.0 -118502375.0    0.0   \n",
       "73264    2.0   3.0  1652.0  6059        2.0  33945258.0 -117942079.0    7.0   \n",
       "56877    2.0   3.0  1684.0  6037        2.0  34212322.0 -118214747.0    0.0   \n",
       "\n",
       "       yearbuilt  tax_value  logerror transactiondate         fips_loc   age  \\\n",
       "18818     1986.0   331062.0 -0.009760      2017-03-21  Los Angeles, CA  36.0   \n",
       "52227     1987.0   109644.0 -0.023405      2017-06-30  Los Angeles, CA  35.0   \n",
       "25353     1966.0   127529.0 -0.009772      2017-04-11  Los Angeles, CA  56.0   \n",
       "73264     1959.0   180075.0 -0.021081      2017-09-01       Orange, CA  63.0   \n",
       "56877     1942.0    81966.0 -0.006403      2017-07-14  Los Angeles, CA  80.0   \n",
       "\n",
       "       baths_scaled  beds_scaled  sq_ft_scaled  tax_value_scaled  age_scaled  \n",
       "18818      1.247680     0.099184      0.208523         -0.135195   -0.770150  \n",
       "52227     -0.154243     0.099184     -0.821472         -1.143307   -0.814908  \n",
       "25353      1.247680     0.099184      0.806196         -1.061877    0.125017  \n",
       "73264     -0.154243     0.099184      0.155128         -0.822636    0.438326  \n",
       "56877     -0.154243     0.099184      0.210245         -1.269324    1.199217  "
      ]
     },
     "execution_count": 3,
     "metadata": {},
     "output_type": "execute_result"
    }
   ],
   "source": [
    "# preview data\n",
    "train.head()"
   ]
  },
  {
   "cell_type": "code",
   "execution_count": 4,
   "id": "a927ab44",
   "metadata": {},
   "outputs": [
    {
     "data": {
      "text/plain": [
       "count    35820.000000\n",
       "mean         0.014648\n",
       "std          0.157703\n",
       "min         -4.655420\n",
       "25%         -0.023550\n",
       "50%          0.005932\n",
       "75%          0.035647\n",
       "max          3.394544\n",
       "Name: logerror, dtype: float64"
      ]
     },
     "execution_count": 4,
     "metadata": {},
     "output_type": "execute_result"
    }
   ],
   "source": [
    "# view summary stats for target\n",
    "train.logerror.describe()"
   ]
  },
  {
   "cell_type": "code",
   "execution_count": 5,
   "id": "3d839b1c",
   "metadata": {},
   "outputs": [
    {
     "data": {
      "image/png": "[encoded data removed]",
      "text/plain": [
       "<Figure size 432x288 with 1 Axes>"
      ]
     },
     "metadata": {
      "needs_background": "light"
     },
     "output_type": "display_data"
    }
   ],
   "source": [
    "# view logerror distribution\n",
    "train.logerror.hist();"
   ]
  },
  {
   "cell_type": "markdown",
   "id": "291d4d62",
   "metadata": {},
   "source": [
    "To establish a baseline, I want to use median rather than mean. Looking at the histogram and summary statistics above, the median seems to be more representative of the data than mean."
   ]
  },
  {
   "cell_type": "code",
   "execution_count": 6,
   "id": "d868474d",
   "metadata": {},
   "outputs": [
    {
     "data": {
      "text/plain": [
       "0.0059316654231650005"
      ]
     },
     "execution_count": 6,
     "metadata": {},
     "output_type": "execute_result"
    }
   ],
   "source": [
    "# establish baseline\n",
    "baseline = train.logerror.median()\n",
    "baseline"
   ]
  },
  {
   "cell_type": "code",
   "execution_count": 7,
   "id": "90bf2692",
   "metadata": {},
   "outputs": [],
   "source": [
    "# split data into x and y\n",
    "scaled_cols = ['tax_value_scaled', 'age_scaled', 'sq_ft_scaled']\n",
    "\n",
    "x_train = train[scaled_cols]\n",
    "y_train = train.logerror\n",
    "\n",
    "x_validate = validate[scaled_cols]\n",
    "y_validate = validate.logerror"
   ]
  },
  {
   "cell_type": "code",
   "execution_count": 8,
   "id": "90c2e840",
   "metadata": {},
   "outputs": [
    {
     "name": "stdout",
     "output_type": "stream",
     "text": [
      "Baseline(median `logerror`) RMSE\n",
      "Train: 0.15794177457620232\n",
      "Validate: 0.15517607692395097\n"
     ]
    }
   ],
   "source": [
    "# import eval metric\n",
    "from sklearn.metrics import mean_squared_error\n",
    "\n",
    "# evaluate baseline\n",
    "y_train = pd.DataFrame(y_train)\n",
    "y_validate = pd.DataFrame(y_validate)\n",
    "\n",
    "y_train['baseline'] = baseline\n",
    "y_validate['baseline'] = baseline\n",
    "\n",
    "rmse_train = mean_squared_error(y_train.logerror, y_train.baseline)**0.5\n",
    "rmse_validate = mean_squared_error(y_validate.logerror, y_validate.baseline)**0.5\n",
    "\n",
    "print('Baseline(median `logerror`) RMSE')\n",
    "print(f'Train: {rmse_train}')\n",
    "print(f'Validate: {rmse_validate}')"
   ]
  },
  {
   "cell_type": "code",
   "execution_count": 9,
   "id": "bc592041",
   "metadata": {},
   "outputs": [
    {
     "name": "stdout",
     "output_type": "stream",
     "text": [
      "OLS RMSE Train: 0.1575445762277908\n",
      "OLS RMSE Validate: 0.15475016447694118\n"
     ]
    }
   ],
   "source": [
    "# run ols model (without clusters)\n",
    "from sklearn.linear_model import LinearRegression\n",
    "\n",
    "# create object\n",
    "lm = LinearRegression(normalize=True)\n",
    "# fit model to train\n",
    "lm.fit(x_train, y_train.logerror)\n",
    "# train predictions\n",
    "y_train['ols_pred'] = lm.predict(x_train)\n",
    "# evaluate model on train\n",
    "rmse_train_ols = mean_squared_error(y_train.logerror, y_train.ols_pred)**0.5\n",
    "# validate predictions\n",
    "y_validate['ols_pred'] = lm.predict(x_validate)\n",
    "# evaluate model on validate\n",
    "rmse_validate_ols = mean_squared_error(y_validate.logerror, y_validate.ols_pred)**0.5\n",
    "\n",
    "# print results\n",
    "print(f'OLS RMSE Train: {rmse_train_ols}')\n",
    "print(f'OLS RMSE Validate: {rmse_validate_ols}')"
   ]
  },
  {
   "cell_type": "code",
   "execution_count": 10,
   "id": "cf4c0c2b",
   "metadata": {},
   "outputs": [
    {
     "name": "stdout",
     "output_type": "stream",
     "text": [
      "LassoLars RMSE Train: 0.1577010506631275\n",
      "LassoLars RMSE Validate: 0.15488023191149203\n"
     ]
    }
   ],
   "source": [
    "# run lassolars without clusters\n",
    "from sklearn.linear_model import LassoLars\n",
    "\n",
    "# create object\n",
    "lars = LassoLars()\n",
    "# fit model to train\n",
    "lars.fit(x_train, y_train.logerror)\n",
    "# make predictions on train\n",
    "y_train['ll_pred'] = lars.predict(x_train)\n",
    "# evaluate model on train\n",
    "rmse_train_ll = mean_squared_error(y_train.logerror, y_train.ll_pred)**0.5\n",
    "# validate predictions\n",
    "y_validate['ll_pred'] = lars.predict(x_validate)\n",
    "# evaluate model on validate\n",
    "rmse_validate_ll = mean_squared_error(y_validate.logerror, y_validate.ll_pred)**0.5\n",
    "\n",
    "# print results\n",
    "print(f'LassoLars RMSE Train: {rmse_train_ll}')\n",
    "print(f'LassoLars RMSE Validate: {rmse_validate_ll}')"
   ]
  },
  {
   "cell_type": "code",
   "execution_count": 11,
   "id": "5f05f7d1",
   "metadata": {},
   "outputs": [
    {
     "name": "stdout",
     "output_type": "stream",
     "text": [
      "Polynomial Regression RMSE Train: 0.1574469261544694\n",
      "Polynomial Regression RMSE Validate: 0.1546330921790841\n"
     ]
    }
   ],
   "source": [
    "# run polynomial without clusters\n",
    "from sklearn.preprocessing import PolynomialFeatures\n",
    "\n",
    "# create polynomial features object\n",
    "poly_feat = PolynomialFeatures()\n",
    "# fit/transform object on train\n",
    "x_train_poly = poly_feat.fit_transform(x_train)\n",
    "# transform on validate and test\n",
    "x_validate_poly = poly_feat.transform(x_validate)\n",
    "\n",
    "# create model object\n",
    "plm = LinearRegression(normalize=True)\n",
    "# fit model to train\n",
    "plm.fit(x_train_poly, y_train.logerror)\n",
    "# make predictions on train\n",
    "y_train['poly_pred'] = plm.predict(x_train_poly)\n",
    "# evaluate model on train\n",
    "rmse_train_poly = mean_squared_error(y_train.logerror, y_train.poly_pred)**0.5\n",
    "# validate predictions\n",
    "y_validate['poly_pred'] = plm.predict(x_validate_poly)\n",
    "# evaluate model on validate\n",
    "rmse_validate_poly = mean_squared_error(y_validate.logerror, y_validate.poly_pred)**0.5\n",
    "\n",
    "# print results\n",
    "print(f'Polynomial Regression RMSE Train: {rmse_train_poly}')\n",
    "print(f'Polynomial Regression RMSE Validate: {rmse_validate_poly}')"
   ]
  },
  {
   "cell_type": "code",
   "execution_count": 12,
   "id": "34617750",
   "metadata": {},
   "outputs": [
    {
     "data": {
      "text/html": [
       "<div>\n",
       "<style scoped>\n",
       "    .dataframe tbody tr th:only-of-type {\n",
       "        vertical-align: middle;\n",
       "    }\n",
       "\n",
       "    .dataframe tbody tr th {\n",
       "        vertical-align: top;\n",
       "    }\n",
       "\n",
       "    .dataframe thead th {\n",
       "        text-align: right;\n",
       "    }\n",
       "</style>\n",
       "<table border=\"1\" class=\"dataframe\">\n",
       "  <thead>\n",
       "    <tr style=\"text-align: right;\">\n",
       "      <th></th>\n",
       "      <th>Linear Regression</th>\n",
       "      <th>LassoLars</th>\n",
       "      <th>Polynomial</th>\n",
       "      <th>Baseline</th>\n",
       "    </tr>\n",
       "  </thead>\n",
       "  <tbody>\n",
       "    <tr>\n",
       "      <th>train</th>\n",
       "      <td>0.157545</td>\n",
       "      <td>0.157701</td>\n",
       "      <td>0.157447</td>\n",
       "      <td>0.157942</td>\n",
       "    </tr>\n",
       "    <tr>\n",
       "      <th>validate</th>\n",
       "      <td>0.154750</td>\n",
       "      <td>0.154880</td>\n",
       "      <td>0.154633</td>\n",
       "      <td>0.155176</td>\n",
       "    </tr>\n",
       "    <tr>\n",
       "      <th>difference</th>\n",
       "      <td>0.002794</td>\n",
       "      <td>0.002821</td>\n",
       "      <td>0.002814</td>\n",
       "      <td>0.002766</td>\n",
       "    </tr>\n",
       "  </tbody>\n",
       "</table>\n",
       "</div>"
      ],
      "text/plain": [
       "            Linear Regression  LassoLars  Polynomial  Baseline\n",
       "train                0.157545   0.157701    0.157447  0.157942\n",
       "validate             0.154750   0.154880    0.154633  0.155176\n",
       "difference           0.002794   0.002821    0.002814  0.002766"
      ]
     },
     "execution_count": 12,
     "metadata": {},
     "output_type": "execute_result"
    }
   ],
   "source": [
    "# view results as dataframe\n",
    "rmse = pd.DataFrame({'Linear Regression':[rmse_train_ols, rmse_validate_ols, (rmse_train_ols-rmse_validate_ols)],\n",
    "                    'LassoLars':[rmse_train_ll, rmse_validate_ll, (rmse_train_ll-rmse_validate_ll)],\n",
    "                    'Polynomial':[rmse_train_poly, rmse_validate_poly, (rmse_train_poly-rmse_validate_poly)],\n",
    "                    'Baseline':[rmse_train, rmse_validate, (rmse_train-rmse_validate)]},\n",
    "                    index=['train', 'validate', 'difference'])\n",
    "rmse"
   ]
  },
  {
   "cell_type": "markdown",
   "id": "1ef82a43",
   "metadata": {},
   "source": [
    "**Takeaways:**\n",
    "- Without using any of the clusters we made in exploration, the Polynomial Regression model appears to perform best. \n",
    " - This model has the lowest RMSE for both train and validate, and it has the smallest difference between train/validate RMSE. \n",
    "- All of the models created so far in this notebook have beaten the baseline (median logerror) by a very small margin."
   ]
  },
  {
   "cell_type": "code",
   "execution_count": 13,
   "id": "cd5a4d52",
   "metadata": {},
   "outputs": [
    {
     "data": {
      "text/plain": [
       "['tax_value_scaled', 'sq_ft_scaled']"
      ]
     },
     "execution_count": 13,
     "metadata": {},
     "output_type": "execute_result"
    }
   ],
   "source": [
    "# use selectkbest to get top features\n",
    "from sklearn.feature_selection import SelectKBest, f_regression\n",
    "# set parameters for f_selector object\n",
    "f_selector = SelectKBest(f_regression, k=2)\n",
    "# fit object to data\n",
    "f_selector.fit(x_train, y_train.logerror)\n",
    "# get bool mask of features list\n",
    "f_mask = f_selector.get_support()\n",
    "# get list of features (True)\n",
    "f_feature = x_train.iloc[:,f_mask].columns.tolist()\n",
    "f_feature"
   ]
  },
  {
   "cell_type": "code",
   "execution_count": 14,
   "id": "5e448f51",
   "metadata": {},
   "outputs": [],
   "source": [
    "X_train, X_validate, X_test, X_train_scaled, X_validate_scaled, X_test_scaled = wr.scale_and_cluster(train, validate, test, ['sq_ft', 'tax_value', 'age'], ['beds', 'baths', 'sq_ft'], 4)"
   ]
  },
  {
   "cell_type": "code",
   "execution_count": 15,
   "id": "2e3ea28a",
   "metadata": {},
   "outputs": [
    {
     "data": {
      "text/html": [
       "<div>\n",
       "<style scoped>\n",
       "    .dataframe tbody tr th:only-of-type {\n",
       "        vertical-align: middle;\n",
       "    }\n",
       "\n",
       "    .dataframe tbody tr th {\n",
       "        vertical-align: top;\n",
       "    }\n",
       "\n",
       "    .dataframe thead th {\n",
       "        text-align: right;\n",
       "    }\n",
       "</style>\n",
       "<table border=\"1\" class=\"dataframe\">\n",
       "  <thead>\n",
       "    <tr style=\"text-align: right;\">\n",
       "      <th></th>\n",
       "      <th>sq_ft</th>\n",
       "      <th>tax_value</th>\n",
       "      <th>age</th>\n",
       "      <th>cluster</th>\n",
       "    </tr>\n",
       "  </thead>\n",
       "  <tbody>\n",
       "    <tr>\n",
       "      <th>0</th>\n",
       "      <td>0.208523</td>\n",
       "      <td>-0.135195</td>\n",
       "      <td>-0.770150</td>\n",
       "      <td>1</td>\n",
       "    </tr>\n",
       "    <tr>\n",
       "      <th>1</th>\n",
       "      <td>-0.821472</td>\n",
       "      <td>-1.143307</td>\n",
       "      <td>-0.814908</td>\n",
       "      <td>1</td>\n",
       "    </tr>\n",
       "    <tr>\n",
       "      <th>2</th>\n",
       "      <td>0.806196</td>\n",
       "      <td>-1.061877</td>\n",
       "      <td>0.125017</td>\n",
       "      <td>3</td>\n",
       "    </tr>\n",
       "    <tr>\n",
       "      <th>3</th>\n",
       "      <td>0.155128</td>\n",
       "      <td>-0.822636</td>\n",
       "      <td>0.438326</td>\n",
       "      <td>1</td>\n",
       "    </tr>\n",
       "    <tr>\n",
       "      <th>4</th>\n",
       "      <td>0.210245</td>\n",
       "      <td>-1.269324</td>\n",
       "      <td>1.199217</td>\n",
       "      <td>1</td>\n",
       "    </tr>\n",
       "    <tr>\n",
       "      <th>...</th>\n",
       "      <td>...</td>\n",
       "      <td>...</td>\n",
       "      <td>...</td>\n",
       "      <td>...</td>\n",
       "    </tr>\n",
       "    <tr>\n",
       "      <th>35815</th>\n",
       "      <td>-0.795636</td>\n",
       "      <td>0.055748</td>\n",
       "      <td>-0.814908</td>\n",
       "      <td>1</td>\n",
       "    </tr>\n",
       "    <tr>\n",
       "      <th>35816</th>\n",
       "      <td>-0.375371</td>\n",
       "      <td>2.051688</td>\n",
       "      <td>2.139142</td>\n",
       "      <td>0</td>\n",
       "    </tr>\n",
       "    <tr>\n",
       "      <th>35817</th>\n",
       "      <td>-0.523497</td>\n",
       "      <td>-1.433437</td>\n",
       "      <td>0.930667</td>\n",
       "      <td>0</td>\n",
       "    </tr>\n",
       "    <tr>\n",
       "      <th>35818</th>\n",
       "      <td>-1.658559</td>\n",
       "      <td>-0.979459</td>\n",
       "      <td>-0.456841</td>\n",
       "      <td>0</td>\n",
       "    </tr>\n",
       "    <tr>\n",
       "      <th>35819</th>\n",
       "      <td>-0.216910</td>\n",
       "      <td>0.169058</td>\n",
       "      <td>0.572601</td>\n",
       "      <td>1</td>\n",
       "    </tr>\n",
       "  </tbody>\n",
       "</table>\n",
       "<p>35820 rows × 4 columns</p>\n",
       "</div>"
      ],
      "text/plain": [
       "          sq_ft  tax_value       age  cluster\n",
       "0      0.208523  -0.135195 -0.770150        1\n",
       "1     -0.821472  -1.143307 -0.814908        1\n",
       "2      0.806196  -1.061877  0.125017        3\n",
       "3      0.155128  -0.822636  0.438326        1\n",
       "4      0.210245  -1.269324  1.199217        1\n",
       "...         ...        ...       ...      ...\n",
       "35815 -0.795636   0.055748 -0.814908        1\n",
       "35816 -0.375371   2.051688  2.139142        0\n",
       "35817 -0.523497  -1.433437  0.930667        0\n",
       "35818 -1.658559  -0.979459 -0.456841        0\n",
       "35819 -0.216910   0.169058  0.572601        1\n",
       "\n",
       "[35820 rows x 4 columns]"
      ]
     },
     "execution_count": 15,
     "metadata": {},
     "output_type": "execute_result"
    }
   ],
   "source": [
    "X_train_scaled"
   ]
  },
  {
   "cell_type": "code",
   "execution_count": null,
   "id": "91e0c52b",
   "metadata": {},
   "outputs": [],
   "source": []
  }
 ],
 "metadata": {
  "kernelspec": {
   "display_name": "Python 3",
   "language": "python",
   "name": "python3"
  },
  "language_info": {
   "codemirror_mode": {
    "name": "ipython",
    "version": 3
   },
   "file_extension": ".py",
   "mimetype": "text/x-python",
   "name": "python",
   "nbconvert_exporter": "python",
   "pygments_lexer": "ipython3",
   "version": "3.8.8"
  }
 },
 "nbformat": 4,
 "nbformat_minor": 5
}
